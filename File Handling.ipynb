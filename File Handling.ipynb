{
 "cells": [
  {
   "cell_type": "code",
   "execution_count": 9,
   "metadata": {},
   "outputs": [
    {
     "name": "stdout",
     "output_type": "stream",
     "text": [
      "Shanto Deb Nath\n",
      "Farhana Ahmed Oishee\n",
      "Promit Chowhan Polok\n",
      "Ji Nahin\n",
      "\n"
     ]
    },
    {
     "data": {
      "text/plain": [
       "<function TextIOWrapper.close()>"
      ]
     },
     "execution_count": 9,
     "metadata": {},
     "output_type": "execute_result"
    }
   ],
   "source": [
    "# 1. File Reading\n",
    "\n",
    "file = open(\"abc.txt\")\n",
    "content = file.read()\n",
    "\n",
    "# content = file.read(10).. Here 10 means amount of bytes it will read\n",
    "\n",
    "print(content)\n",
    "file.close"
   ]
  },
  {
   "cell_type": "code",
   "execution_count": 10,
   "metadata": {},
   "outputs": [
    {
     "name": "stdout",
     "output_type": "stream",
     "text": [
      "Shanto Deb Nath\n",
      "Farhana Ahmed Oishee\n",
      "Promit Chowhan Polok\n",
      "Ji Nahin\n",
      "\n"
     ]
    }
   ],
   "source": [
    "# 2. File Reading(2)\n",
    "\n",
    "\n",
    "with open('abc.txt') as file:\n",
    "  content = file.read()\n",
    "  print(content)"
   ]
  },
  {
   "cell_type": "code",
   "execution_count": 11,
   "metadata": {},
   "outputs": [
    {
     "name": "stdout",
     "output_type": "stream",
     "text": [
      "Shanto Deb Nath\n",
      "\n"
     ]
    }
   ],
   "source": [
    "# 3.Readline\n",
    "\n",
    "with open('abc.txt') as file:\n",
    "  line1 = file.readline()\n",
    "  line2 = file.readline()\n",
    "\n",
    "  print(line1)\n"
   ]
  },
  {
   "cell_type": "code",
   "execution_count": 12,
   "metadata": {},
   "outputs": [
    {
     "name": "stdout",
     "output_type": "stream",
     "text": [
      "['Shanto Deb Nath\\n', 'Farhana Ahmed Oishee\\n', 'Promit Chowhan Polok\\n', 'Ji Nahin\\n']\n"
     ]
    }
   ],
   "source": [
    "# Readlines\n",
    "\n",
    "with open(\"abc.txt\") as file:\n",
    "  lines = file.readlines()\n",
    "\n",
    "  print(lines)"
   ]
  },
  {
   "cell_type": "code",
   "execution_count": 13,
   "metadata": {},
   "outputs": [
    {
     "name": "stdout",
     "output_type": "stream",
     "text": [
      "Shanto Deb Nath\n",
      "\n",
      "Farhana Ahmed Oishee\n",
      "\n",
      "Promit Chowhan Polok\n",
      "\n",
      "Ji Nahin\n",
      "\n"
     ]
    }
   ],
   "source": [
    "# Readlines by loop\n",
    "\n",
    "with open(\"abc.txt\") as file:\n",
    "  lines = file.readlines()\n",
    "  for line in lines:\n",
    "    print(line)\n",
    "\n",
    " "
   ]
  },
  {
   "cell_type": "code",
   "execution_count": 14,
   "metadata": {},
   "outputs": [],
   "source": [
    "# Saving Data\n",
    "while True:\n",
    "  with open(\"names.txt\", \"a\") as file:\n",
    "   name = input(\"Please enter a name for adding: \")\n",
    "   file.write(name + '\\n')\n",
    "   choice = input(\"Do you want to add more names? (Y/N)\")\n",
    "\n",
    "   if choice == \"N\":\n",
    "     break\n",
    "\n",
    "\n",
    "with open(\"names.txt\", 'r') as file:\n",
    "  lines = file.readlines()\n",
    "\n",
    "\n",
    "for line in lines:\n",
    "  print(line.strip().capitalize())    \n",
    "     "
   ]
  },
  {
   "cell_type": "code",
   "execution_count": null,
   "metadata": {},
   "outputs": [],
   "source": [
    "# Saving Complex File\n",
    "\n",
    "def save_user_data():\n",
    "  name = input(\"Enter Name: \")\n",
    "  email = input(\"Enter Email: \")\n",
    "  contact = input(\"Enter Contact: \")\n",
    "\n",
    "  user_data = f\"Name: {name}\\nEmail: {email}\\nContact: {contact}\"\n",
    "  with open(\"user_data.txt\", \"a\") as file:\n",
    "    file.write(user_data)\n",
    "\n",
    "def read_user_data():\n",
    "  with open(\"user_data.txt\", 'r') as file:\n",
    "    print(file.read())\n",
    "\n",
    "save_user_data()\n",
    "read_user_data()"
   ]
  }
 ],
 "metadata": {
  "kernelspec": {
   "display_name": "Python 3",
   "language": "python",
   "name": "python3"
  },
  "language_info": {
   "codemirror_mode": {
    "name": "ipython",
    "version": 3
   },
   "file_extension": ".py",
   "mimetype": "text/x-python",
   "name": "python",
   "nbconvert_exporter": "python",
   "pygments_lexer": "ipython3",
   "version": "3.11.3"
  }
 },
 "nbformat": 4,
 "nbformat_minor": 2
}
